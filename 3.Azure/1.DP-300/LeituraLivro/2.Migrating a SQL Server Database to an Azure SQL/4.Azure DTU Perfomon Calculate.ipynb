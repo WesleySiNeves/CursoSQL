{
    "metadata": {
        "kernelspec": {
            "name": "SQL",
            "display_name": "SQL",
            "language": "sql"
        },
        "language_info": {
            "name": "sql",
            "version": ""
        }
    },
    "nbformat_minor": 2,
    "nbformat": 4,
    "cells": [
        {
            "cell_type": "markdown",
            "source": [
                "\\## Utilizar   \n",
                "https://dtucalculator.azurewebsites.net/"
            ],
            "metadata": {
                "azdata_cell_guid": "4757ab16-d735-426e-bedd-d2d3ef319bf0"
            },
            "attachments": {}
        }
    ]
}