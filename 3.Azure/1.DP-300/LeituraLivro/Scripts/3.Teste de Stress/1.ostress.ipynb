{
    "metadata": {
        "kernelspec": {
            "name": "SQL",
            "display_name": "SQL",
            "language": "sql"
        },
        "language_info": {
            "name": "sql",
            "version": ""
        }
    },
    "nbformat_minor": 2,
    "nbformat": 4,
    "cells": [
        {
            "cell_type": "markdown",
            "source": [
                "Aprender mais sobre a ferramenta Osstress\n",
                "\n",
                "  \n",
                "\n",
                "Open C:\\\\Code\\\\Lesson02\\\\ExecuteQuery.bat in Notepad. It contains the following commands: ostress -Sazuresqlservername.database.windows.net -Uuser -Ppassword -dazuresqldatabase -Q\"SELECT \\* FROM Warehouse. StockItems si join Warehouse.StockItemholdings sh on si.StockItemId=sh.StockItemID join Sales.OrderLines ol on ol.StockItemID = si.StockItemID\" –n25 –r20 -1"
            ],
            "metadata": {
                "azdata_cell_guid": "6d9e8d4f-5604-4c0b-9232-d47afe52a000"
            },
            "attachments": {}
        }
    ]
}