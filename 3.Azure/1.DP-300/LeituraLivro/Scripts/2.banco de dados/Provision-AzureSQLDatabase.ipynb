{
    "metadata": {
        "kernelspec": {
            "name": "powershell",
            "display_name": "PowerShell",
            "language": "powershell"
        },
        "language_info": {
            "name": "powershell",
            "codemirror_mode": "shell",
            "mimetype": "text/x-sh",
            "file_extension": ".ps1"
        }
    },
    "nbformat_minor": 2,
    "nbformat": 4,
    "cells": [
        {
            "cell_type": "markdown",
            "source": [
                "# <mark>\\## Criar uma função para provisionar uma nova base de dados</mark>"
            ],
            "metadata": {
                "azdata_cell_guid": "11335fcd-36ea-4362-a1fe-8e8ee1450ec2"
            },
            "attachments": {}
        },
        {
            "cell_type": "markdown",
            "source": [
                "[https://docs.microsoft.com/en-us/azure/azure-sql/database/hyperscale-database-create-quickstart?view=azuresql&tabs=azure-portal](https://docs.microsoft.com/en-us/azure/azure-sql/database/hyperscale-database-create-quickstart?view=azuresql&tabs=azure-portal)"
            ],
            "metadata": {
                "azdata_cell_guid": "4a184d24-3172-4c60-8e87-144c48565fa2"
            },
            "attachments": {}
        },
        {
            "cell_type": "code",
            "source": [
                "function Provision-AzureSQLDatabase\r\n",
                "{\r\n",
                "    param\r\n",
                "    (\r\n",
                "    [parameter(Mandatory=$true)]\r\n",
                "    [String] $ResourceGroup,\r\n",
                "    [parameter(Mandatory=$true)]\r\n",
                "    [String] $ServerName,\r\n",
                "    [parameter(Mandatory=$true)]\r\n",
                "    [String] $DatabaseName,\r\n",
                "    [parameter(Mandatory=$false)]\r\n",
                "    [String] $Edition=\"Basic\",\r\n",
                "    [parameter(Mandatory=$false)]\r\n",
                "    [String] $ElasticPoolName=\"\",\r\n",
                "    [parameter(Mandatory=$false)]\r\n",
                "    [String] $ServiceObjective\r\n",
                "   \r\n",
                "    )\r\n",
                "\r\n",
                "    if([string]::IsNullOrEmpty($ServiceObjective))\r\n",
                "    {\r\n",
                "        If($Edition -eq \"Basic\")\r\n",
                "            {\r\n",
                "                $ServiceObjective = \"Basic\"\r\n",
                "\r\n",
                "            }\r\n",
                "            elseif ($Edition -eq \"Standard\")\r\n",
                "            {\r\n",
                "                $ServiceObjective = \"S0\"\r\n",
                "                \r\n",
                "            }\r\n",
                "            elseif ($Edition -eq \"Premium\")\r\n",
                "            {\r\n",
                "                $ServiceObjective = \"P1\"\r\n",
                "                \r\n",
                "            }\r\n",
                "            elseif ($Edition -eq \"GeneralPurpose\")\r\n",
                "            {\r\n",
                "                $ServiceObjective = \"GP_Gen5_1\"\r\n",
                "                \r\n",
                "            }\r\n",
                "            elseif ($Edition -eq \"BusinessCritical\")\r\n",
                "            {\r\n",
                "                $ServiceObjective = \"BC_Gen5_1\"\r\n",
                "                \r\n",
                "            }\r\n",
                "            elseif ($Edition -eq \"Hyperscale\")\r\n",
                "            {\r\n",
                "                $ServiceObjective = \"HS_Gen5_2\"\r\n",
                "                \r\n",
                "            }\r\n",
                "    }\r\n",
                "    \r\n",
                "   \r\n",
                "    if([string]::IsNullOrWhiteSpace($ElasticPoolName) -eq $False)\r\n",
                "    {\r\n",
                "         \r\n",
                "        New-AzSqlDatabase -ResourceGroupName $ResourceGroup -ServerName $ServerName -DatabaseName $DatabaseName -ElasticPoolName $ElasticPoolName\r\n",
                "    }\r\n",
                "    else {\r\n",
                "\r\n",
                "        if([string]::IsNullOrWhiteSpace($Edition) -eq $False)\r\n",
                "        {\r\n",
                "        #   New-AzSqlDatabase -ResourceGroupName $ResourceGroup -ServerName $ServerName -DatabaseName $DatabaseName -Edition $Edition -RequestedServiceObjectiveName -$ServiceObjective --BackupStorageRedundancy \"Local\"\r\n",
                "          New-AzSqlDatabase -ResourceGroupName 'DP300' -ServerName 'sql-server-dp300' -DatabaseName 'NewDb' -Edition 'Hyperscale' -RequestedServiceObjectiveName \"HS_Gen5_2\" -BackupStorageRedundancy \"Local\"\r\n",
                "                    Write-Host 'Aqui'\r\n",
                "           \r\n",
                "        }\r\n",
                "        \r\n",
                "    }\r\n",
                "   \r\n",
                "}\r\n",
                "\r\n",
                "\r\n",
                "\r\n",
                "\r\n",
                ""
            ],
            "metadata": {
                "azdata_cell_guid": "64942a4f-2db4-4894-a05d-2bcb8e4fa552",
                "language": "powershell",
                "tags": []
            },
            "outputs": [
                {
                    "name": "stdout",
                    "text": "",
                    "output_type": "stream"
                }
            ],
            "execution_count": 6
        },
        {
            "cell_type": "markdown",
            "source": [
                "# \\## Conectar no azure"
            ],
            "metadata": {
                "language": "powershell",
                "azdata_cell_guid": "ab3821e5-6a7d-4e0c-aefa-3c2594e17302"
            },
            "attachments": {}
        },
        {
            "cell_type": "code",
            "source": [
                "Connect-AzAccount"
            ],
            "metadata": {
                "language": "powershell",
                "azdata_cell_guid": "41bd5e31-503e-46f7-8993-3d8f6a80b7a0"
            },
            "outputs": [
                {
                    "name": "stdout",
                    "text": "\n",
                    "output_type": "stream"
                },
                {
                    "name": "stdout",
                    "text": "Account                                 SubscriptionName                   TenantId                             Environ\n                                                                                                                ment   \n-------                                 ----------------                   --------                             -------\nwesley.neves@implantainformatica.com.br Visual Studio Enterprise-Principal 5d512ad1-5a13-466d-ac3e-8b4368dbc1b6 Azur...\n\n\n",
                    "output_type": "stream"
                }
            ],
            "execution_count": 2
        },
        {
            "cell_type": "code",
            "source": [
                "Provision-AzureSQLDatabase -ResourceGroup \"DP300\" -ServerName \"sql-server-dp300\" -DatabaseName \"newHyperScaleDB\" -Edition \"Hyperscale\""
            ],
            "metadata": {
                "language": "powershell",
                "azdata_cell_guid": "90ff026d-f518-45e2-b201-fd41d95997d5"
            },
            "outputs": [
                {
                    "name": "stdout",
                    "text": "AVISO: Upcoming breaking changes in the cmdlet 'New-AzSqlDatabase' :\n- The output type 'Microsoft.Azure.Commands.Sql.Database.Model.AzureSqlDatabaseModel' is changing\n- The following properties in the output type are being deprecated : 'BackupStorageRedundancy'\n- The following properties are being added to the output type : 'CurrentBackupStorageRedundancy' \n'RequestedBackupStorageRedundancy'\n- The change is expected to take effect from the version : '3.0.0'\nNote : Go to https://aka.ms/azps-changewarnings for steps to suppress this breaking change warning, and other \ninformation on breaking changes in Azure PowerShell.\n",
                    "output_type": "stream"
                },
                {
                    "name": "stdout",
                    "text": "\n\nResourceGroupName                : DP300\nServerName                       : sql-server-dp300\nDatabaseName                     : NewDb\nLocation                         : brazilsouth\nDatabaseId                       : 122a86cc-cc37-45ea-a730-4bacaf541d3e\nEdition                          : Hyperscale\nCollationName                    : SQL_Latin1_General_CP1_CI_AS\nCatalogCollation                 : \nMaxSizeBytes                     : -1\nStatus                           : Online\nCreationDate                     : 14/06/2022 11:43:43\nCurrentServiceObjectiveId        : 00000000-0000-0000-0000-000000000000\nCurrentServiceObjectiveName      : HS_Gen5_2\nRequestedServiceObjectiveName    : HS_Gen5_2\nRequestedServiceObjectiveId      : \nElasticPoolName                  : \nEarliestRestoreDate              : 14/06/2022 11:43:43\nTags                             : \nResourceId                       : /subscriptions/1f418411-fad0-44df-8df8-d07651e62228/resourceGroups/DP300/providers/M\n                                   icrosoft.Sql/servers/sql-server-dp300/databases/NewDb\nCreateMode                       : \nReadScale                        : Enabled\nZoneRedundant                    : False\nCapacity                         : 2\nFamily                           : Gen5\nSkuName                          : HS_Gen5\nLicenseType                      : LicenseIncluded\nAutoPauseDelayInMinutes          : \nMinimumCapacity                  : \nReadReplicaCount                 : \nHighAvailabilityReplicaCount     : 1\nCurrentBackupStorageRedundancy   : Local\nRequestedBackupStorageRedundancy : Local\nSecondaryType                    : \nMaintenanceConfigurationId       : /subscriptions/1f418411-fad0-44df-8df8-d07651e62228/providers/Microsoft.Maintenance/\n                                   publicMaintenanceConfigurations/SQL_Default\nEnableLedger                     : False\n\n",
                    "output_type": "stream"
                },
                {
                    "name": "stdout",
                    "text": "Aqui\n\n\n",
                    "output_type": "stream"
                }
            ],
            "execution_count": 7
        },
        {
            "cell_type": "markdown",
            "source": [
                "# <mark>\\## Script para validar os SKus</mark>"
            ],
            "metadata": {
                "azdata_cell_guid": "7647f4d7-f944-4f0e-8854-06f6ee3a8303"
            },
            "attachments": {}
        },
        {
            "cell_type": "code",
            "source": [
                "SELECT D.name,\r\n",
                "       DSO.edition,\r\n",
                "       DSO.service_objective,\r\n",
                "       DSO.elastic_pool_name\r\n",
                "FROM sys.database_service_objectives AS DSO\r\n",
                "    JOIN sys.databases AS D\r\n",
                "        ON D.database_id = DSO.database_id;"
            ],
            "metadata": {
                "azdata_cell_guid": "e57962b5-1f8e-4045-8198-5d9c64741eea",
                "language": "powershell"
            },
            "outputs": [],
            "execution_count": null
        }
    ]
}