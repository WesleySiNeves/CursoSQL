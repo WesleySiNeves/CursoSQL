{
    "metadata": {
        "kernelspec": {
            "name": "SQL",
            "display_name": "SQL",
            "language": "sql"
        },
        "language_info": {
            "name": "sql",
            "version": ""
        }
    },
    "nbformat_minor": 2,
    "nbformat": 4,
    "cells": [
        {
            "cell_type": "markdown",
            "source": [
                "# Fazer o exercicio da pagina 93 usando o sqlpackage\n",
                "\n",
                "  \n",
                "\n",
                "Conteudo\n",
                "\n",
                "  \n",
                "\n",
                "https://www.sqlshack.com/migrate-an-on-premises-sql-server-database-to-the-azure-sql-database/"
            ],
            "metadata": {
                "azdata_cell_guid": "8b4d021f-637a-41ec-b49b-44ec155984dd"
            },
            "attachments": {}
        }
    ]
}