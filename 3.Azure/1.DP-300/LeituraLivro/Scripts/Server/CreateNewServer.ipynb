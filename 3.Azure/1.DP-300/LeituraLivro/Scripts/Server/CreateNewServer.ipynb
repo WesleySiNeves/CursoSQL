{
    "metadata": {
        "kernelspec": {
            "name": "powershell",
            "display_name": "PowerShell",
            "language": "powershell"
        },
        "language_info": {
            "name": "powershell",
            "codemirror_mode": "shell",
            "mimetype": "text/x-sh",
            "file_extension": ".ps1"
        }
    },
    "nbformat_minor": 2,
    "nbformat": 4,
    "cells": [
        {
            "cell_type": "code",
            "source": [
                "$tenant = (Get-AzContext).Tenant\r\n",
                "$tenant"
            ],
            "metadata": {
                "azdata_cell_guid": "6cc3c05e-fca8-4535-a086-27510763f4e6",
                "language": "powershell"
            },
            "outputs": [
                {
                    "name": "stdout",
                    "text": "\nId                                   Name Category Domains\n--                                   ---- -------- -------\n5d512ad1-5a13-466d-ac3e-8b4368dbc1b6                      \n\n\n",
                    "output_type": "stream"
                }
            ],
            "execution_count": 2
        }
    ]
}