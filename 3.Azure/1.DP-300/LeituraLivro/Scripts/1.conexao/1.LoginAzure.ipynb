{
    "metadata": {
        "kernelspec": {
            "name": "powershell",
            "display_name": "PowerShell",
            "language": "powershell"
        },
        "language_info": {
            "name": "powershell",
            "codemirror_mode": "shell",
            "mimetype": "text/x-sh",
            "file_extension": ".ps1"
        }
    },
    "nbformat_minor": 2,
    "nbformat": 4,
    "cells": [
        {
            "cell_type": "markdown",
            "source": [
                "# <mark>##Sign in with Azure PowerShell</mark>"
            ],
            "metadata": {
                "azdata_cell_guid": "4ac88c98-2ec5-48f8-add0-1cbba7798271",
                "language": ""
            },
            "attachments": {}
        },
        {
            "cell_type": "code",
            "source": [
                "Connect-AzAccount"
            ],
            "metadata": {
                "azdata_cell_guid": "3cf2a08b-89f7-4a2e-b4ac-7de309815dd0",
                "language": "powershell"
            },
            "outputs": [
                {
                    "name": "stdout",
                    "text": "AVISO: TenantId '5627b2ec-37e2-42df-bac4-43add425101c' contains more than one active subscription. First one will be \nselected for further use. To select another subscription, use Set-AzContext.\nAVISO: Unable to acquire token for tenant '8503c993-b910-44d4-b779-d86675823510' with error 'SharedTokenCacheCredential\n authentication unavailable. No account matching the specified username: Wesley.Neves@implantainformatica.com.br \ntenantId: 8503c993-b910-44d4-b779-d86675823510 was found in the cache.'\n",
                    "output_type": "stream"
                },
                {
                    "name": "stdout",
                    "text": "\n",
                    "output_type": "stream"
                },
                {
                    "name": "stdout",
                    "text": "Account                                 SubscriptionName   TenantId                             Environment\n-------                                 ----------------   --------                             -----------\nWesley.Neves@implantainformatica.com.br Implanta Principal 5627b2ec-37e2-42df-bac4-43add425101c AzureCloud \n\n\n",
                    "output_type": "stream"
                }
            ],
            "execution_count": 1
        },
        {
            "cell_type": "code",
            "source": [
                "$tenant = (Get-AzContext).Tenant\r\n",
                "$tenant\r\n",
                ""
            ],
            "metadata": {
                "azdata_cell_guid": "e6a02116-bda8-492e-a3b6-95dd758b8c4c",
                "language": "powershell"
            },
            "outputs": [
                {
                    "output_type": "stream",
                    "name": "stdout",
                    "text": "\n"
                },
                {
                    "output_type": "stream",
                    "name": "stdout",
                    "text": "Account                                 SubscriptionName                   TenantId                             Environ\n                                                                                                                ment   \n-------                                 ----------------                   --------                             -------\nwesley.neves@implantainformatica.com.br Visual Studio Enterprise-Principal 5d512ad1-5a13-466d-ac3e-8b4368dbc1b6 Azur...\n\n\n. {\n>> $tenant = (Get-AzContext).Tenant\n>> $tenant\n>> \n>> }\n>> \n\nId                                   Name Category Domains\n--                                   ---- -------- -------\n5d512ad1-5a13-466d-ac3e-8b4368dbc1b6                      \n\n\n"
                }
            ],
            "execution_count": 2
        },
        {
            "cell_type": "markdown",
            "source": [
                "##  <span style=\"background-color: rgb(255, 255, 255); color: rgb(23, 23, 23); font-family: &quot;Segoe UI&quot;, SegoeUI, &quot;Helvetica Neue&quot;, Helvetica, Arial, sans-serif; font-size: clamp(1.59375rem, 18.7895px + 1.39803vw, 2.125rem); font-weight: 600;\">Device code authentication</span>"
            ],
            "metadata": {
                "azdata_cell_guid": "9c583c1c-4256-416a-a90c-64a8efeb89e1"
            },
            "attachments": {}
        },
        {
            "cell_type": "code",
            "source": [
                "Connect-AzAccount -UseDeviceAuthentication"
            ],
            "metadata": {
                "azdata_cell_guid": "534cec1a-4974-43b6-89be-623acf5490ad",
                "language": "powershell"
            },
            "outputs": [],
            "execution_count": null
        },
        {
            "cell_type": "code",
            "source": [
                "Get-AzEnvironment | Select-Object -Property Name"
            ],
            "metadata": {
                "language": "powershell",
                "azdata_cell_guid": "553ffad1-5add-4975-8be4-edb1d6c51aa9"
            },
            "outputs": [
                {
                    "output_type": "stream",
                    "name": "stdout",
                    "text": "\nName             \n----             \nAzureChinaCloud  \nAzureCloud       \nAzureGermanCloud \nAzureUSGovernment\n\n\n"
                }
            ],
            "execution_count": 9
        }
    ]
}