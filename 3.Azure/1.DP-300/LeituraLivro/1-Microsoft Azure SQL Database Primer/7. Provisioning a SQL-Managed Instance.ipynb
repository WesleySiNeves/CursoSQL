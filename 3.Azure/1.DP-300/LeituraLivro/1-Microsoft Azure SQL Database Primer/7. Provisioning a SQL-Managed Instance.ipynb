{
    "metadata": {
        "kernelspec": {
            "name": "SQL",
            "display_name": "SQL",
            "language": "sql"
        },
        "language_info": {
            "name": "sql",
            "version": ""
        }
    },
    "nbformat_minor": 2,
    "nbformat": 4,
    "cells": [
        {
            "cell_type": "markdown",
            "source": [
                "## <mark>\\## Provisionar pelo portal uma nova Manage Instance</mark>"
            ],
            "metadata": {
                "azdata_cell_guid": "86b7ada3-bc4c-4ae4-93da-3f4f490ee374"
            },
            "attachments": {}
        },
        {
            "cell_type": "code",
            "source": [
                ""
            ],
            "metadata": {
                "azdata_cell_guid": "28f6623c-d349-4415-8154-d06a7eccb578",
                "language": "sql"
            },
            "outputs": [],
            "execution_count": null
        }
    ]
}