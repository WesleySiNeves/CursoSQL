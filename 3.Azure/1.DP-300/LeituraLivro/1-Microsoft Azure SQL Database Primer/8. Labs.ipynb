{
    "metadata": {
        "kernelspec": {
            "name": "SQL",
            "display_name": "SQL",
            "language": "sql"
        },
        "language_info": {
            "name": "sql",
            "version": ""
        }
    },
    "nbformat_minor": 2,
    "nbformat": 4,
    "cells": [
        {
            "cell_type": "markdown",
            "source": [
                "## <mark>##Lab 1</mark>\n",
                "\n",
                "https://github.com/MicrosoftLearning/DP-300T00-Administering-Relational-Databases-on-Azure/blob/master/Instructions/Labs/DP-300\\_01\\_lab.md"
            ],
            "metadata": {
                "azdata_cell_guid": "9fa08c8f-f511-4378-9034-352310ba3758"
            },
            "attachments": {}
        },
        {
            "cell_type": "markdown",
            "source": [
                "###   \n",
                "\n",
                "## <mark>##Lab 2</mark>\n",
                "\n",
                "### [https://github.com/MicrosoftLearning/DP-300T00-Administering-Relational-Databases-on-Azure/blob/master/Instructions/Labs/DP-300\\_02\\_lab.md](https://github.com/MicrosoftLearning/DP-300T00-Administering-Relational-Databases-on-Azure/blob/master/Instructions/Labs/DP-300_02_lab.md)"
            ],
            "metadata": {
                "azdata_cell_guid": "bbca9e5f-c956-4be8-a68e-e379246f9906"
            },
            "attachments": {}
        }
    ]
}