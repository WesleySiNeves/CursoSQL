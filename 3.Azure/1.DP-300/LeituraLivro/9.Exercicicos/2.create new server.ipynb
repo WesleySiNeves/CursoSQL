{
    "metadata": {
        "kernelspec": {
            "name": "powershell",
            "display_name": "PowerShell",
            "language": "powershell"
        },
        "language_info": {
            "name": "powershell",
            "codemirror_mode": "shell",
            "mimetype": "text/x-sh",
            "file_extension": ".ps1"
        }
    },
    "nbformat_minor": 2,
    "nbformat": 4,
    "cells": [
        {
            "cell_type": "markdown",
            "source": [
                "# <mark>\\## para saber mais</mark>\n",
                "\n",
                "<mark>[https://docs.microsoft.com/en-us/powershell/module/az.sql/new-azsqlserver?view=azps-8.0.0](https://docs.microsoft.com/en-us/powershell/module/az.sql/new-azsqlserver?view=azps-8.0.0)  \n",
                "</mark>\n",
                "\n",
                "[https://docs.microsoft.com/en-us/azure/azure-sql/database/scripts/create-and-configure-database-powershell?view=azuresql](https://docs.microsoft.com/en-us/azure/azure-sql/database/scripts/create-and-configure-database-powershell?view=azuresql)\n",
                "\n",
                "https://docs.microsoft.com/en-us/powershell/module/az.sql/new-azsqldatabase?view=azps-8.0.0"
            ],
            "metadata": {
                "azdata_cell_guid": "9a52d7ab-fe2d-4c21-bb05-bb46e0d25797"
            },
            "attachments": {}
        },
        {
            "cell_type": "markdown",
            "source": [
                "# <mark>1) Criação de variaveis</mark>"
            ],
            "metadata": {
                "azdata_cell_guid": "57f494f0-7963-4662-976d-112191990d55"
            },
            "attachments": {}
        },
        {
            "cell_type": "code",
            "source": [
                "$resourceGroupName=\"DP300\"\r\n",
                "$location =\"Brazil South\"\r\n",
                "$serverName =\"sql-server-dp300\"\r\n",
                "$startIp = \"0.0.0.0\"\r\n",
                "$endIp = \"0.0.0.0\""
            ],
            "metadata": {
                "language": "powershell",
                "azdata_cell_guid": "c18ea81e-81ce-4cf7-9fba-d425e8863053",
                "tags": []
            },
            "outputs": [
                {
                    "name": "stdout",
                    "text": "",
                    "output_type": "stream"
                }
            ],
            "execution_count": 19
        },
        {
            "cell_type": "markdown",
            "source": [
                "# <mark>2) Senhas do banco de dados integrados pelo Key Vault</mark>"
            ],
            "metadata": {
                "language": "powershell",
                "azdata_cell_guid": "364ead4e-a86c-4ba3-85ab-0025f7b88124"
            },
            "attachments": {}
        },
        {
            "cell_type": "code",
            "source": [
                "$secretText = Get-AzKeyVaultSecret -VaultName 'key-vault-senha' -Name 'password-serverdp300' -AsPlainText\r\n",
                "$adminSqlLogin = Get-AzKeyVaultSecret -VaultName 'key-vault-senha' -Name 'user-serverdp300' -AsPlainText\r\n",
                ""
            ],
            "metadata": {
                "language": "powershell",
                "azdata_cell_guid": "09597c85-dadf-4d24-82d7-c0197a8c2e59"
            },
            "outputs": [
                {
                    "name": "stdout",
                    "text": "",
                    "output_type": "stream"
                }
            ],
            "execution_count": 20
        },
        {
            "cell_type": "markdown",
            "source": [
                "# <mark>3) Create New SQL  Server</mark>"
            ],
            "metadata": {
                "language": "powershell",
                "azdata_cell_guid": "70a7a056-5637-442f-8cb2-a1088e760484"
            },
            "attachments": {}
        },
        {
            "cell_type": "code",
            "source": [
                "\r\n",
                "\r\n",
                "$server = New-AzSqlServer -ResourceGroupName $resourceGroupName  -ServerName $serverName `\r\n",
                "    -Location $location `\r\n",
                "    -SqlAdministratorCredentials $(New-Object -TypeName System.Management.Automation.PSCredential -ArgumentList $adminSqlLogin, $(ConvertTo-SecureString -String $secretText -AsPlainText -Force))\r\n",
                ""
            ],
            "metadata": {
                "azdata_cell_guid": "6eb294f2-9813-4c0a-9189-58bf259ca543",
                "language": "powershell"
            },
            "outputs": [
                {
                    "name": "stdout",
                    "text": "New-AzSqlServer : Server with name: 'sql-server-dp300' already exists.\nNo linha:2 caractere:11\n+ $server = New-AzSqlServer -ResourceGroupName $resourceGroupName  -Ser ...\n+           ~~~~~~~~~~~~~~~~~~~~~~~~~~~~~~~~~~~~~~~~~~~~~~~~~~~~~~~~~~~\n    + CategoryInfo          : CloseError: (:) [New-AzSqlServer], PSArgumentException\n    + FullyQualifiedErrorId : Microsoft.Azure.Commands.Sql.Server.Cmdlet.NewAzureSqlServer\n \n",
                    "output_type": "stream"
                },
                {
                    "name": "stdout",
                    "text": "",
                    "output_type": "stream"
                }
            ],
            "execution_count": 22
        },
        {
            "cell_type": "markdown",
            "source": [
                "# <mark>4) Permitindo todos os Ips</mark>"
            ],
            "metadata": {
                "language": "sql",
                "azdata_cell_guid": "0c5edc31-1820-4a69-8279-84cb7abd1c62"
            },
            "attachments": {}
        },
        {
            "cell_type": "code",
            "source": [
                "# Create a server firewall rule that allows access from the specified IP range\r\n",
                "$serverFirewallRule = New-AzSqlServerFirewallRule -ResourceGroupName $resourceGroupName `\r\n",
                "    -ServerName $serverName `\r\n",
                "    -FirewallRuleName \"AllowedIPs\" -StartIpAddress $startIp -EndIpAddress $endIp"
            ],
            "metadata": {
                "language": "",
                "azdata_cell_guid": "51f8c88d-bb21-4c7c-96e1-063bc2a49b73"
            },
            "outputs": [
                {
                    "name": "stdout",
                    "text": "",
                    "output_type": "stream"
                }
            ],
            "execution_count": 23
        },
        {
            "cell_type": "markdown",
            "source": [
                "# <mark>5) Criando um banco de dados como exemplo</mark>"
            ],
            "metadata": {
                "azdata_cell_guid": "844932a6-9be4-4601-9652-d8b82a3b30f6"
            },
            "attachments": {}
        },
        {
            "cell_type": "code",
            "source": [
                "# Create a blank database with an S0 performance level Model DTU\r\n",
                "$database = New-AzSqlDatabase  -ResourceGroupName $resourceGroupName -ServerName $serverName -DatabaseName 'AdventureWorksLT' `\r\n",
                "    -RequestedServiceObjectiveName \"S0\" `\r\n",
                "    -SampleName \"AdventureWorksLT\" `\r\n",
                "    -BackupStorageRedundancy \"Local\"\r\n",
                ""
            ],
            "metadata": {
                "azdata_cell_guid": "0af703bb-988e-47f3-b717-179b334a7d02",
                "language": ""
            },
            "outputs": [
                {
                    "name": "stdout",
                    "text": "AVISO: Upcoming breaking changes in the cmdlet 'New-AzSqlDatabase' :\n- The output type 'Microsoft.Azure.Commands.Sql.Database.Model.AzureSqlDatabaseModel' is changing\n- The following properties in the output type are being deprecated : 'BackupStorageRedundancy'\n- The following properties are being added to the output type : 'CurrentBackupStorageRedundancy' \n'RequestedBackupStorageRedundancy'\n- The change is expected to take effect from the version : '3.0.0'\nNote : Go to https://aka.ms/azps-changewarnings for steps to suppress this breaking change warning, and other \ninformation on breaking changes in Azure PowerShell.\n",
                    "output_type": "stream"
                }
            ],
            "execution_count": 31
        },
        {
            "cell_type": "markdown",
            "source": [
                "# <mark>\\## outros exemplos de criação de banco de dados</mark>"
            ],
            "metadata": {
                "azdata_cell_guid": "cb6934bc-4dbf-4947-95bf-3b9a6eb8b3c1"
            },
            "attachments": {}
        },
        {
            "cell_type": "code",
            "source": [
                "New-AzSqlDatabase -ResourceGroupName \"ResourceGroup01\" -ServerName \"Server01\" -DatabaseName \"Database03\" -Edition \"GeneralPurpose\" -Vcore 2 -ComputeGeneration \"Gen5\"\r\n",
                ""
            ],
            "metadata": {
                "azdata_cell_guid": "a8d3611c-31e5-4e7b-94ef-0674684b3362",
                "language": "powershell",
                "tags": [
                    "hide_input"
                ]
            },
            "outputs": [],
            "execution_count": null
        },
        {
            "cell_type": "markdown",
            "source": [
                "## <mark>Create an Serverless database on the specified server</mark>"
            ],
            "metadata": {
                "language": "",
                "azdata_cell_guid": "17f02e90-5650-48cf-906e-66fca61a4186"
            },
            "attachments": {}
        },
        {
            "cell_type": "code",
            "source": [
                "New-AzSqlDatabase -ResourceGroupName \"ResourceGroup01\" -ServerName \"Server01\" -DatabaseName \"Database04\" -Edition \"GeneralPurpose\" -Vcore 2 -ComputeGeneration \"Gen5\" -ComputeModel Serverless\r\n",
                "\r\n",
                ""
            ],
            "metadata": {
                "azdata_cell_guid": "63220d60-47b6-490d-98b2-20f7fbb48d0f",
                "language": "powershell"
            },
            "outputs": [],
            "execution_count": null
        },
        {
            "cell_type": "markdown",
            "source": [
                "# <mark>\\## Para limpar os recursos</mark>"
            ],
            "metadata": {
                "azdata_cell_guid": "197d4f80-75ea-44c6-86dd-b4ca69813779"
            },
            "attachments": {}
        },
        {
            "cell_type": "code",
            "source": [
                "Remove-AzResourceGroup -ResourceGroupName $resourcegroupname"
            ],
            "metadata": {
                "azdata_cell_guid": "9f8e2fe3-88ae-45c5-a7f3-fbd04139941e",
                "language": "powershell"
            },
            "outputs": [],
            "execution_count": null
        }
    ]
}