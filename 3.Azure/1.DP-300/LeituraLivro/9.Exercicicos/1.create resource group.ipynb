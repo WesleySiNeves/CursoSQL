{
    "metadata": {
        "kernelspec": {
            "name": "powershell",
            "display_name": "PowerShell",
            "language": "powershell"
        },
        "language_info": {
            "name": "powershell",
            "codemirror_mode": "shell",
            "mimetype": "text/x-sh",
            "file_extension": ".ps1"
        }
    },
    "nbformat_minor": 2,
    "nbformat": 4,
    "cells": [
        {
            "cell_type": "markdown",
            "source": [
                "# <mark>1) Conectar no Windows Azure</mark>"
            ],
            "metadata": {
                "azdata_cell_guid": "b92b5eac-032c-442e-8955-f691c33cae7b"
            },
            "attachments": {}
        },
        {
            "cell_type": "code",
            "source": [
                "Connect-AzAccount"
            ],
            "metadata": {
                "azdata_cell_guid": "ae9f9ef2-3305-47ad-b664-7e695acac197",
                "language": "powershell"
            },
            "outputs": [
                {
                    "output_type": "stream",
                    "name": "stdout",
                    "text": "\n"
                },
                {
                    "output_type": "stream",
                    "name": "stdout",
                    "text": "Account                                 SubscriptionName                   TenantId                             Environ\n                                                                                                                ment   \n-------                                 ----------------                   --------                             -------\nwesley.neves@implantainformatica.com.br Visual Studio Enterprise-Principal 5d512ad1-5a13-466d-ac3e-8b4368dbc1b6 Azur...\n\n\n"
                }
            ],
            "execution_count": 1
        },
        {
            "cell_type": "markdown",
            "source": [
                "# <mark>2) Setar o contexto da subscrição</mark>"
            ],
            "metadata": {
                "language": "powershell",
                "azdata_cell_guid": "de28d71a-8850-4da2-b172-a794ff88abb5"
            },
            "attachments": {}
        },
        {
            "cell_type": "code",
            "source": [
                "Set-AzContext -Subscription \"1f418411-fad0-44df-8df8-d07651e62228\""
            ],
            "metadata": {
                "language": "powershell",
                "azdata_cell_guid": "14f60102-25ee-4592-bb3b-013925e221c6"
            },
            "outputs": [
                {
                    "output_type": "stream",
                    "name": "stdout",
                    "text": "\nName                                     Account             SubscriptionName    Environment         TenantId          \n----                                     -------             ----------------    -----------         --------          \nVisual Studio Enterprise-Principal (1... wesley.neves@imp... Visual Studio En... AzureCloud          5d512ad1-5a13-4...\n"
                },
                {
                    "output_type": "stream",
                    "name": "stdout",
                    "text": "\n\n"
                }
            ],
            "execution_count": 2
        },
        {
            "cell_type": "markdown",
            "source": [
                "# <mark>\\## Criar um novo resource group</mark>"
            ],
            "metadata": {
                "language": "powershell",
                "azdata_cell_guid": "6ddf647f-cee5-4378-9861-ec98ca8905df"
            },
            "attachments": {}
        },
        {
            "cell_type": "code",
            "source": [
                "Get-AzResourceGroup"
            ],
            "metadata": {
                "azdata_cell_guid": "e63fb6c1-f46f-44bd-8768-e6404e76cd8d",
                "language": "powershell"
            },
            "outputs": [
                {
                    "output_type": "stream",
                    "name": "stdout",
                    "text": "\n\nResourceGroupName : rg-dev-bancodados\nLocation          : brazilsouth\nProvisioningState : Succeeded\nTags              : \nResourceId        : /subscriptions/1f418411-fad0-44df-8df8-d07651e62228/resourceGroups/rg-dev-bancodados\n\nResourceGroupName : NetworkWatcherRG\nLocation          : brazilsouth\nProvisioningState : Succeeded\nTags              : \nResourceId        : /subscriptions/1f418411-fad0-44df-8df8-d07651e62228/resourceGroups/NetworkWatcherRG\n\n"
                },
                {
                    "output_type": "stream",
                    "name": "stdout",
                    "text": "\n\n"
                }
            ],
            "execution_count": 4
        },
        {
            "cell_type": "code",
            "source": [
                "$ResouceName = \"DP300\"\r\n",
                "$Location  =\"Brazil South\"\r\n",
                "New-AzResourceGroup -Name $ResouceName -Location $Location"
            ],
            "metadata": {
                "language": "powershell",
                "azdata_cell_guid": "b44501bb-67a2-468d-b444-55b3945d5486"
            },
            "outputs": [
                {
                    "output_type": "stream",
                    "name": "stdout",
                    "text": ". {\n>> $ResouceName = \"DP300\"\n>> $Location  =\"Brazil South\"\n>> New-AzResour"
                },
                {
                    "output_type": "stream",
                    "name": "stdout",
                    "text": "ceGroup -Name $ResouceName -Location $Location\n>> }\n>> \n"
                },
                {
                    "output_type": "stream",
                    "name": "stdout",
                    "text": "\n\nResourceGroupName : DP300\nLocation          : brazilsouth\nProvisioningState : Succeeded\nTags              : \nResourceId        : /subscriptions/1f418411-fad0-44df-8df8-d07651e62228/resourceGroups/DP300\n\n"
                },
                {
                    "output_type": "stream",
                    "name": "stdout",
                    "text": "\n\n"
                }
            ],
            "execution_count": 5
        },
        {
            "cell_type": "markdown",
            "source": [
                "4. Verificar o recurso Criado"
            ],
            "metadata": {
                "language": "",
                "azdata_cell_guid": "df69901b-6dac-4540-b269-06df03675469"
            },
            "attachments": {}
        },
        {
            "cell_type": "code",
            "source": [
                "Get-AzResourceGroup"
            ],
            "metadata": {
                "language": "powershell",
                "azdata_cell_guid": "2bb8a92a-4d69-4d3f-9162-20757fa23fa9"
            },
            "outputs": [
                {
                    "output_type": "stream",
                    "name": "stdout",
                    "text": "\n\nResourceGroupName : rg-dev-bancodados\nLocation          : brazilsouth\nProvisioningState : Succeeded\nTags              : \nResourceId        : /subscriptions/1f418411-fad0-44df-8df8-d07651e62228/resourceGroups/rg-dev-bancodados\n\nResourceGroupName : NetworkWatcherRG\nLocation          : brazilsouth\nProvisioningState : Succeeded\nTags              : \nResourceId        : /subscriptions/1f418411-fad0-44df-8df8-d07651e62228/resourceGroups/NetworkWatcherRG\n\nResourceGroupName : DP300\nLocation          : brazilsouth\nProvisioningState : Succeeded\nTags              : \nResourceId        : /subscriptions/1f418411-fad0-44df-8df8-d07651e62228/resourceGroups/DP300\n\n"
                },
                {
                    "output_type": "stream",
                    "name": "stdout",
                    "text": "\n\n"
                }
            ],
            "execution_count": 6
        }
    ]
}