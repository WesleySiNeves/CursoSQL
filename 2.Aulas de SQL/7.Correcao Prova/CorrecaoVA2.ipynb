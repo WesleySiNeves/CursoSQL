{
    "metadata": {
        "kernelspec": {
            "name": "SQL",
            "display_name": "SQL",
            "language": "sql"
        },
        "language_info": {
            "name": "sql",
            "version": ""
        }
    },
    "nbformat_minor": 2,
    "nbformat": 4,
    "cells": [
        {
            "cell_type": "markdown",
            "source": [
                "<span style=\"font-size: 11pt; font-family: Cambria, serif; color: rgb(67, 67, 67); background-color: rgb(255, 255, 255); font-variant-numeric: normal; font-variant-east-asian: normal; vertical-align: baseline; white-space: pre-wrap;\"><span style=\"border:none;display:inline-block;overflow:hidden;width:738px;height:321px;\"><img src=\"https://lh3.googleusercontent.com/cKXPIpbkgJpPOLAs1Le1Mx5Q5WwLgHHYjFQC6TURyFV-jEsx-9VYX7-7qUJ48g5cXVVHRd0Ygy8UOaihDQcmh3PBsuHd7W-QVdghizqJnZLqn4lWJEOzT3zTz5oq1wtlTrFS5WI6RUhQXM1F3jXfeye_g_o2dn0mTigp02WOslHmMeYGIwRDZrzbtuch\" width=\"738\" height=\"321\" style=\"margin-left:0px;margin-top:0px;\"></span></span>"
            ],
            "metadata": {
                "azdata_cell_guid": "5fc77b0d-3edf-495e-9ed1-25ac17251504"
            },
            "attachments": {}
        },
        {
            "cell_type": "markdown",
            "source": [
                "<span style=\"font-size: 14px;\">1)Criar um banco de dados chamado “AutoPecas”</span>"
            ],
            "metadata": {
                "azdata_cell_guid": "edf2a71f-1e0a-460a-89b5-b10022cb8283"
            },
            "attachments": {}
        },
        {
            "cell_type": "code",
            "source": [
                "CREATE DATABASE AutoPecas;"
            ],
            "metadata": {
                "azdata_cell_guid": "104abe82-5800-407e-8071-b47b24082de7",
                "language": "sql"
            },
            "outputs": [
                {
                    "output_type": "error",
                    "evalue": "Msg 1801, Level 16, State 3, Line 1\r\nO banco de dados 'AutoPecas' já existe. Escolha um nome de banco de dados diferente.",
                    "ename": "",
                    "traceback": []
                },
                {
                    "output_type": "display_data",
                    "data": {
                        "text/html": "Total execution time: 00:00:00.002"
                    },
                    "metadata": {}
                }
            ],
            "execution_count": 13
        },
        {
            "cell_type": "markdown",
            "source": [
                "<span style=\"font-size: 14px;\">2) Criar um esquema chamado “Cadastro”</span>"
            ],
            "metadata": {
                "azdata_cell_guid": "a9cf0ada-5105-47e7-9a9a-4f5cb13bd230"
            },
            "attachments": {}
        },
        {
            "cell_type": "code",
            "source": [
                "CREATE SCHEMA Cadastro;"
            ],
            "metadata": {
                "azdata_cell_guid": "80da8b54-d163-43ed-b7d7-4fbae40fb5a2",
                "language": "sql"
            },
            "outputs": [
                {
                    "output_type": "display_data",
                    "data": {
                        "text/html": "Commands completed successfully."
                    },
                    "metadata": {}
                },
                {
                    "output_type": "display_data",
                    "data": {
                        "text/html": "Total execution time: 00:00:00.003"
                    },
                    "metadata": {}
                }
            ],
            "execution_count": 5
        },
        {
            "cell_type": "markdown",
            "source": [
                "<span style=\"font-size: 14px;\">3) Criar um esquema chamado “Automotivo”</span>"
            ],
            "metadata": {
                "language": "sql",
                "azdata_cell_guid": "3902d121-8bfc-455e-a58e-12edd5999cd7"
            },
            "attachments": {}
        },
        {
            "cell_type": "code",
            "source": [
                "CREATE SCHEMA Automotivo"
            ],
            "metadata": {
                "language": "sql",
                "azdata_cell_guid": "3a1f6d77-005f-4fbc-9f82-32bbd9cc0b55"
            },
            "outputs": [
                {
                    "output_type": "display_data",
                    "data": {
                        "text/html": "Commands completed successfully."
                    },
                    "metadata": {}
                },
                {
                    "output_type": "display_data",
                    "data": {
                        "text/html": "Total execution time: 00:00:00.001"
                    },
                    "metadata": {}
                }
            ],
            "execution_count": 6
        },
        {
            "cell_type": "markdown",
            "source": [
                "<span style=\"font-size: 14px;\">4) Criar a tabela de “Pessoas” dentro do Schema “Cadastro”</span>"
            ],
            "metadata": {
                "language": "sql",
                "azdata_cell_guid": "279cbad6-cc21-4318-a916-d289d87f9a11"
            },
            "attachments": {}
        },
        {
            "cell_type": "code",
            "source": [
                "CREATE TABLE Cadastro.Pessoas\r\n",
                "(\r\n",
                "\r\n",
                "    IdPessoa int not null,\r\n",
                "    Nome VARCHAR(50),\r\n",
                "    CONSTRAINT PK_CadastroPessoas PRIMARY KEY(IdPessoa)\r\n",
                ")"
            ],
            "metadata": {
                "language": "sql",
                "azdata_cell_guid": "6f065f1e-62c0-417b-8846-a070c5f59faf",
                "tags": []
            },
            "outputs": [
                {
                    "output_type": "error",
                    "evalue": "Msg 2714, Level 16, State 6, Line 1\r\nJá existe um objeto com nome 'Pessoas' no banco de dados.",
                    "ename": "",
                    "traceback": []
                },
                {
                    "output_type": "display_data",
                    "data": {
                        "text/html": "Total execution time: 00:00:00.009"
                    },
                    "metadata": {}
                }
            ],
            "execution_count": 14
        },
        {
            "cell_type": "markdown",
            "source": [
                "5) Criar a tabela de “Telefones” dentro do Schema “Cadastro” e criar  a relação “FK\\_Pessoas\\_Possuem\\_Telefones” de Pessoas com Telefones"
            ],
            "metadata": {
                "language": "sql",
                "azdata_cell_guid": "efaec048-5b50-4d7a-8b4b-e0cb990479c6"
            },
            "attachments": {}
        },
        {
            "cell_type": "code",
            "source": [
                "CREATE TABLE Cadastro.Telefones\r\n",
                "(\r\n",
                "\r\n",
                "    IdTelefone int not null,\r\n",
                "    IdPessoa int not null,\r\n",
                "    Telefone VARCHAR(20),\r\n",
                "    CONSTRAINT PK_CadastroTelefones PRIMARY KEY(IdTelefone),\r\n",
                "    CONSTRAINT FK_Pessoas_Possuem_Telefones FOREIGN KEY(IdPessoa) REFERENCES Cadastro.Pessoas(IdPessoa)\r\n",
                ")"
            ],
            "metadata": {
                "language": "sql",
                "azdata_cell_guid": "5d99d048-f539-4a13-a294-00ee7c76047a"
            },
            "outputs": [
                {
                    "output_type": "display_data",
                    "data": {
                        "text/html": "Commands completed successfully."
                    },
                    "metadata": {}
                },
                {
                    "output_type": "display_data",
                    "data": {
                        "text/html": "Total execution time: 00:00:00.003"
                    },
                    "metadata": {}
                }
            ],
            "execution_count": 9
        },
        {
            "cell_type": "markdown",
            "source": [
                "<span style=\"font-size: 14px;\">6) Criar a tabela de “Enderecos” dentro do Schema “Cadastro” e criar&nbsp; a relação “FK_Pessoas_Possuem_Enderecos” de Pessoas com Enderecos</span>"
            ],
            "metadata": {
                "language": "sql",
                "azdata_cell_guid": "1f9cf2ea-ae47-4335-bc53-785e254927eb"
            },
            "attachments": {}
        },
        {
            "cell_type": "code",
            "source": [
                "\r\n",
                "CREATE TABLE Cadastro.Enderecos\r\n",
                "(\r\n",
                "  IdEndereco  int not null ,\r\n",
                "  IdPessoa int not null,\r\n",
                "  Numero varchar(50) ,\r\n",
                "  Local varchar(50),\r\n",
                "  CEP varchar(10),\r\n",
                "  Bairro VARCHAR(100),\r\n",
                "  Cidade VARCHAR(50),\r\n",
                "  CONSTRAINT PK_CadastroEnderecos PRIMARY KEY(IdEndereco) ,\r\n",
                "  CONSTRAINT FK_Pessoas_Possuem_Enderecos FOREIGN KEY(IdPessoa) REFERENCES Cadastro.Pessoas(IdPessoa)\r\n",
                "\r\n",
                "\r\n",
                ")"
            ],
            "metadata": {
                "language": "sql",
                "azdata_cell_guid": "966ff8c5-e4e1-4fbb-95df-9756e190f0e4"
            },
            "outputs": [
                {
                    "output_type": "display_data",
                    "data": {
                        "text/html": "Commands completed successfully."
                    },
                    "metadata": {}
                },
                {
                    "output_type": "display_data",
                    "data": {
                        "text/html": "Total execution time: 00:00:00.005"
                    },
                    "metadata": {}
                }
            ],
            "execution_count": 10
        },
        {
            "cell_type": "markdown",
            "source": [
                "<span style=\"font-size: 14px;\">7)Criar a tabela de “Clientes” dentro do Schema “Cadastro” e criar&nbsp; a relação “FK_Cliente_e_Pessoa” de “Clientes”&nbsp; com “Pessoas”</span>"
            ],
            "metadata": {
                "language": "sql",
                "azdata_cell_guid": "d9f51acb-d2f3-4163-943c-62f3541ed647"
            },
            "attachments": {}
        },
        {
            "cell_type": "code",
            "source": [
                "CREATE table Cadastro.Clientes\r\n",
                "(\r\n",
                "  IdCliente int not null,\r\n",
                "  IdPessoa int not null,\r\n",
                "  Codigo  int ,\r\n",
                "  CONSTRAINT PK_CadastroClientes PRIMARY KEY(IdCliente),\r\n",
                "  CONSTRAINT  FK_Cliente_e_Pessoa FOREIGN KEY(IdPessoa)  REFERENCES Cadastro.Pessoas(IdPessoa)\r\n",
                "\r\n",
                ")"
            ],
            "metadata": {
                "language": "sql",
                "azdata_cell_guid": "1fdd444e-cb8b-4a9f-ae8e-49688b8aef25"
            },
            "outputs": [
                {
                    "output_type": "display_data",
                    "data": {
                        "text/html": "Commands completed successfully."
                    },
                    "metadata": {}
                },
                {
                    "output_type": "display_data",
                    "data": {
                        "text/html": "Total execution time: 00:00:00.006"
                    },
                    "metadata": {}
                }
            ],
            "execution_count": 11
        },
        {
            "cell_type": "markdown",
            "source": [
                "<span style=\"font-size: 14px;\">8)Criar a tabela de “Funcionarios” dentro do Schema “Cadastro” e criar&nbsp; a relação “FK_</span>Funcionarios<span style=\"font-size: 14px;\">_e_Pessoa” de “Clientes”&nbsp; com “Pessoas”</span>"
            ],
            "metadata": {
                "language": "sql",
                "azdata_cell_guid": "a711cf51-4086-446e-b718-7ff5cf8f21a8"
            },
            "attachments": {}
        },
        {
            "cell_type": "code",
            "source": [
                "CREATE table Cadastro.Funcionarios\r\n",
                "(\r\n",
                "  IdFuncionario int not null,\r\n",
                "  IdPessoa int not null,\r\n",
                "  IdCategoria TINYINT not null ,\r\n",
                "  Codigo int ,\r\n",
                "   CONSTRAINT PK_CadastroFuncionarios PRIMARY Key(IdFuncionario),\r\n",
                "   CONSTRAINT FK_Funcionario_e_Pessoa FOREIGN Key(IdPessoa) REFERENCES Cadastro.Pessoas(IdPessoa)\r\n",
                "\r\n",
                "\r\n",
                ")\r\n",
                ""
            ],
            "metadata": {
                "language": "sql",
                "azdata_cell_guid": "a2a1967d-8086-46d4-823a-fec05c93350a"
            },
            "outputs": [
                {
                    "output_type": "display_data",
                    "data": {
                        "text/html": "Commands completed successfully."
                    },
                    "metadata": {}
                },
                {
                    "output_type": "display_data",
                    "data": {
                        "text/html": "Total execution time: 00:00:00.004"
                    },
                    "metadata": {}
                }
            ],
            "execution_count": 12
        },
        {
            "cell_type": "markdown",
            "source": [
                "9)Criar a tabela de “Categorias” dentro do Schema “Cadastro” e criar  a relação “FK_Funcionarios_possuem_Categorias” de “Categorias”  com “Funcionarios”\r\n",
                ""
            ],
            "metadata": {
                "language": "",
                "azdata_cell_guid": "0fab3e91-53f4-4c3a-9de9-180f46921112"
            },
            "attachments": {}
        },
        {
            "cell_type": "code",
            "source": [
                "CREATE table "
            ],
            "metadata": {
                "azdata_cell_guid": "5d56e6df-af4c-4f21-b49b-ed81fb64c5f9",
                "language": "sql"
            },
            "outputs": [],
            "execution_count": null
        },
        {
            "cell_type": "markdown",
            "source": [
                "<span style=\"font-size: 14px;\">15)Adicionar a Coluna “DataNascimento” do tipo “Date”&nbsp; na tabela de Pessoas</span>"
            ],
            "metadata": {
                "language": "sql",
                "azdata_cell_guid": "bdc304cb-0db1-42f1-95fc-a292fa923398"
            },
            "attachments": {}
        },
        {
            "cell_type": "code",
            "source": [
                "Alter table Cadastro.Pessoas Add  DataNascimento Date;\r\n",
                ""
            ],
            "metadata": {
                "language": "sql",
                "azdata_cell_guid": "58b1a454-914b-4ca5-b62e-bd4e7057e2dc"
            },
            "outputs": [
                {
                    "output_type": "display_data",
                    "data": {
                        "text/html": "Commands completed successfully."
                    },
                    "metadata": {}
                },
                {
                    "output_type": "display_data",
                    "data": {
                        "text/html": "Total execution time: 00:00:00.016"
                    },
                    "metadata": {}
                }
            ],
            "execution_count": 15
        },
        {
            "cell_type": "code",
            "source": [
                "Insert into  Cadastro.Pessoas(IdPessoa,Nome,DataNascimento)\n",
                "Values(1, 'Luizinho','2010-01-01')"
            ],
            "metadata": {
                "language": "",
                "azdata_cell_guid": "d983cc0c-fe16-416a-8d04-8e4cc24b0107",
                "tags": []
            },
            "outputs": [
                {
                    "output_type": "display_data",
                    "data": {
                        "text/html": "(1 row affected)"
                    },
                    "metadata": {}
                },
                {
                    "output_type": "display_data",
                    "data": {
                        "text/html": "Total execution time: 00:00:00.004"
                    },
                    "metadata": {}
                }
            ],
            "execution_count": 17
        },
        {
            "cell_type": "code",
            "source": [
                "--Criaçao da funçao calcular idade 6 pontos\r\n",
                "CREATE FUNCTION CalculoIdade( @variavel DATE)\r\n",
                "returns int\r\n",
                "as\r\n",
                "begin\r\n",
                " declare @idade int;\r\n",
                " --select @idade = datediff(YY,@variavel,GETDATE())\r\n",
                " Set @idade =right(cast(@variavel as int),4)-right(cast(getdate()as int),4)\r\n",
                "\r\n",
                "return @idade\r\n",
                "end\r\n",
                "\r\n",
                ""
            ],
            "metadata": {
                "language": "sql",
                "azdata_cell_guid": "e3c14ea1-358e-48f5-8015-24165ce85770"
            },
            "outputs": [
                {
                    "output_type": "error",
                    "evalue": "Msg 529, Level 16, State 2, Procedure CalculoIdade, Line 8\r\nNão é permitida a conversão explícita do tipo de dados date em int.",
                    "ename": "",
                    "traceback": []
                },
                {
                    "output_type": "display_data",
                    "data": {
                        "text/html": "Total execution time: 00:00:00.005"
                    },
                    "metadata": {}
                }
            ],
            "execution_count": 31
        },
        {
            "cell_type": "code",
            "source": [
                "DECLARE @variavel DATE = '1950-12-12'\r\n",
                "\r\n",
                "SELECT    year(Getdate()) - year(@variavel)\r\n",
                "\r\n",
                "Select  Datediff(day,@variavel,Getdate())\r\n",
                "\r\n",
                ""
            ],
            "metadata": {
                "language": "sql",
                "azdata_cell_guid": "bd64f7ee-8281-4127-ad58-ab1ed870f61e",
                "tags": []
            },
            "outputs": [
                {
                    "output_type": "display_data",
                    "data": {
                        "text/html": "(1 row affected)"
                    },
                    "metadata": {}
                },
                {
                    "output_type": "display_data",
                    "data": {
                        "text/html": "(1 row affected)"
                    },
                    "metadata": {}
                },
                {
                    "output_type": "display_data",
                    "data": {
                        "text/html": "Total execution time: 00:00:00.013"
                    },
                    "metadata": {}
                },
                {
                    "output_type": "execute_result",
                    "metadata": {},
                    "execution_count": 42,
                    "data": {
                        "application/vnd.dataresource+json": {
                            "schema": {
                                "fields": [
                                    {
                                        "name": "(No column name)"
                                    }
                                ]
                            },
                            "data": [
                                {
                                    "0": "72"
                                }
                            ]
                        },
                        "text/html": [
                            "<table>",
                            "<tr><th>(No column name)</th></tr>",
                            "<tr><td>72</td></tr>",
                            "</table>"
                        ]
                    }
                },
                {
                    "output_type": "execute_result",
                    "metadata": {},
                    "execution_count": 42,
                    "data": {
                        "application/vnd.dataresource+json": {
                            "schema": {
                                "fields": [
                                    {
                                        "name": "(No column name)"
                                    }
                                ]
                            },
                            "data": [
                                {
                                    "0": "26256"
                                }
                            ]
                        },
                        "text/html": [
                            "<table>",
                            "<tr><th>(No column name)</th></tr>",
                            "<tr><td>26256</td></tr>",
                            "</table>"
                        ]
                    }
                }
            ],
            "execution_count": 42
        }
    ]
}